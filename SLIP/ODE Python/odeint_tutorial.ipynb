{
 "cells": [
  {
   "cell_type": "code",
   "execution_count": 10,
   "id": "formal-uzbekistan",
   "metadata": {},
   "outputs": [],
   "source": [
    "import numpy as np\n",
    "from scipy.integrate import odeint\n",
    "%matplotlib inline\n",
    "import matplotlib.pyplot as plt"
   ]
  },
  {
   "cell_type": "code",
   "execution_count": 11,
   "id": "restricted-tolerance",
   "metadata": {},
   "outputs": [],
   "source": [
    "def firstorder(y, t):\n",
    "    tau = 5.0 \n",
    "    K = 2.0\n",
    "    u = 1.0\n",
    "    dydt = (-y + K * u ) / tau\n",
    "    return dydt"
   ]
  },
  {
   "cell_type": "code",
   "execution_count": 14,
   "id": "laughing-spirituality",
   "metadata": {},
   "outputs": [],
   "source": [
    "t = np.linspace(0,10,11)"
   ]
  },
  {
   "cell_type": "code",
   "execution_count": 16,
   "id": "together-stocks",
   "metadata": {},
   "outputs": [
    {
     "name": "stdout",
     "output_type": "stream",
     "text": [
      "[[0.        ]\n",
      " [0.36253849]\n",
      " [0.65935989]\n",
      " [0.9023767 ]\n",
      " [1.10134206]\n",
      " [1.26424112]\n",
      " [1.39761158]\n",
      " [1.50680608]\n",
      " [1.59620698]\n",
      " [1.66940225]\n",
      " [1.72932946]]\n"
     ]
    }
   ],
   "source": [
    "y = odeint(firstorder,0,t)\n",
    "print(y)"
   ]
  },
  {
   "cell_type": "code",
   "execution_count": 17,
   "id": "seasonal-worse",
   "metadata": {},
   "outputs": [
    {
     "data": {
      "text/plain": [
       "[<matplotlib.lines.Line2D at 0x7efed1a30850>]"
      ]
     },
     "execution_count": 17,
     "metadata": {},
     "output_type": "execute_result"
    },
    {
     "data": {
      "image/png": "[encoded data removed]",
      "text/plain": [
       "<Figure size 432x288 with 1 Axes>"
      ]
     },
     "metadata": {
      "needs_background": "light"
     },
     "output_type": "display_data"
    }
   ],
   "source": [
    "plt.plot(t,y)"
   ]
  },
  {
   "cell_type": "code",
   "execution_count": 18,
   "id": "provincial-occasions",
   "metadata": {},
   "outputs": [],
   "source": [
    "def firstorder(y, t, K, u):\n",
    "    tau = 5.0 \n",
    "    dydt = (-y + K * u ) / tau\n",
    "    return dydt"
   ]
  },
  {
   "cell_type": "code",
   "execution_count": 19,
   "id": "compressed-foundation",
   "metadata": {},
   "outputs": [],
   "source": [
    "t = np.linspace(0,10,11)\n",
    "K = 2.0\n",
    "u = 1.0"
   ]
  },
  {
   "cell_type": "code",
   "execution_count": 20,
   "id": "accepting-constraint",
   "metadata": {},
   "outputs": [],
   "source": [
    "y = odeint(firstorder,0,t, args=(K,u))"
   ]
  },
  {
   "cell_type": "code",
   "execution_count": 29,
   "id": "rural-locator",
   "metadata": {},
   "outputs": [
    {
     "name": "stdout",
     "output_type": "stream",
     "text": [
      "[0. 0. 0. 1. 1. 1. 1. 1. 1. 1. 1.]\n"
     ]
    }
   ],
   "source": [
    "t = np.linspace(0,10,11)\n",
    "K = 2.0\n",
    "u = np.zeros(len(t))\n",
    "u[3:] = 1.0\n",
    "y0 = 0\n",
    "print(u)"
   ]
  },
  {
   "cell_type": "code",
   "execution_count": 30,
   "id": "looking-stuff",
   "metadata": {},
   "outputs": [
    {
     "name": "stdout",
     "output_type": "stream",
     "text": [
      "[0.]\n",
      "[0.]\n",
      "[0.]\n",
      "[0.36253849]\n",
      "[0.65935989]\n",
      "[0.90237668]\n",
      "[1.101342]\n",
      "[1.26424102]\n",
      "[1.39761146]\n",
      "[1.50680593]\n"
     ]
    }
   ],
   "source": [
    "ys = np.zeros(len(t))\n",
    "ys[0] = y0\n",
    "for i in range(len(t) - 1):\n",
    "    ts = [t[i], t[i+1]]\n",
    "    y = odeint(firstorder, y0, ts, args=(K,u[i]))\n",
    "    y0 = y[1]\n",
    "    ys[i+1] = y0\n",
    "    print(y[1])"
   ]
  },
  {
   "cell_type": "code",
   "execution_count": 31,
   "id": "furnished-influence",
   "metadata": {},
   "outputs": [
    {
     "data": {
      "text/plain": [
       "[<matplotlib.lines.Line2D at 0x7efec970ee50>]"
      ]
     },
     "execution_count": 31,
     "metadata": {},
     "output_type": "execute_result"
    },
    {
     "data": {
      "image/png": "[encoded data removed]",
      "text/plain": [
       "<Figure size 432x288 with 1 Axes>"
      ]
     },
     "metadata": {
      "needs_background": "light"
     },
     "output_type": "display_data"
    }
   ],
   "source": [
    "plt.plot(t,ys)"
   ]
  },
  {
   "cell_type": "markdown",
   "id": "english-money",
   "metadata": {},
   "source": [
    "# [example](https://apmonitor.com/pdc/index.php/Main/TankBlending) & [tutorial](https://www.youtube.com/watch?v=8-V5T40aMEc)"
   ]
  },
  {
   "cell_type": "markdown",
   "id": "available-purpose",
   "metadata": {},
   "source": [
    "![img](https://www.notion.so/image/https%3A%2F%2Fs3-us-west-2.amazonaws.com%2Fsecure.notion-static.com%2F08ad88b2-63e1-4a89-ad7e-12c3fb4c9960%2FUntitled.png?table=block&id=1e5f1207-e09e-41fd-bc70-672fa795d92f&spaceId=36c3e647-06c4-4ed1-99a1-3706e50f66f0&width=1850&userId=b9f59011-0253-43ef-946a-512501504ba8&cache=v2)"
   ]
  },
  {
   "cell_type": "markdown",
   "id": "fabulous-wilson",
   "metadata": {},
   "source": [
    "![](https://www.notion.so/image/https%3A%2F%2Fs3-us-west-2.amazonaws.com%2Fsecure.notion-static.com%2Fb98c1079-492a-46cf-a832-74eda00e4b41%2FUntitled.png?table=block&id=00a11124-f48c-4727-8568-94c3d3c4e918&spaceId=36c3e647-06c4-4ed1-99a1-3706e50f66f0&width=1850&userId=b9f59011-0253-43ef-946a-512501504ba8&cache=v2)"
   ]
  },
  {
   "cell_type": "code",
   "execution_count": 36,
   "id": "legendary-purple",
   "metadata": {},
   "outputs": [
    {
     "data": {
      "text/plain": [
       "Text(0.5, 0, 'Time (hr)')"
      ]
     },
     "execution_count": 36,
     "metadata": {},
     "output_type": "execute_result"
    },
    {
     "data": {
      "image/png": "[encoded data removed]",
      "text/plain": [
       "<Figure size 432x288 with 2 Axes>"
      ]
     },
     "metadata": {
      "needs_background": "light"
     },
     "output_type": "display_data"
    }
   ],
   "source": [
    "import numpy as np\n",
    "%matplotlib inline\n",
    "import matplotlib.pyplot as plt\n",
    "from scipy.integrate import odeint\n",
    "\n",
    "# define mixing model\n",
    "def mixer(x,t,Tf,Caf):\n",
    "    # Inputs (2):\n",
    "    # Tf = Feed Temperature (K)\n",
    "    # Caf = Feed Concentration (mol/m^3)\n",
    "    # States (2):\n",
    "    # Concentration of A (mol/m^3)\n",
    "    Ca = x[0]\n",
    "    # Temperature\n",
    "    T = x[1]\n",
    "    # Parameters:\n",
    "    # Volumetric Flowrate (m^3/hr)\n",
    "    q = 100\n",
    "    # Volume of CSTR (m^3)\n",
    "    V = 100\n",
    "    # Calculate concentration derivative\n",
    "    dCadt = q/V*(Caf - Ca)\n",
    "    dTdt = q/V*(Tf - T)\n",
    "    return [dCadt, dTdt]\n",
    "\n",
    "# Initial Condition\n",
    "Ca0 = 0.0\n",
    "T0 = 350.0\n",
    "# Feed Temperature (K)\n",
    "Tf = 300\n",
    "# Feed Concentration (mol/m^3)\n",
    "Caf = 1\n",
    "# Time Interval (min)\n",
    "t = np.linspace(0,10,100)\n",
    "\n",
    "# Simulate mixer\n",
    "y = odeint(mixer,[Ca0,T0],t,args=(Tf,Caf))\n",
    "Ca = y[:,0]\n",
    "T = y[:,1]\n",
    "\n",
    "# Construct results and save data file\n",
    "# Column 1 = time\n",
    "# Column 2 = concentration\n",
    "data = np.vstack((t,Ca.T, T.T)) # vertical stack\n",
    "data = data.T             # transpose data\n",
    "np.savetxt('data.txt',data,delimiter=',')\n",
    "\n",
    "# Plot the results\n",
    "plt.subplot(2,1,1)\n",
    "plt.plot(t,Ca,'r-',linewidth=3)\n",
    "plt.ylabel('Ca (mol/L)')\n",
    "plt.legend(['Concentration'],loc='best')\n",
    "\n",
    "plt.subplot(2,1,2)\n",
    "plt.plot(t,T,'b--',linewidth=3)\n",
    "plt.ylabel('T (K)')\n",
    "plt.legend(['Temperature'],loc='best')\n",
    "\n",
    "plt.xlabel('Time (hr)')\n",
    "# plt.show()"
   ]
  },
  {
   "cell_type": "code",
   "execution_count": null,
   "id": "collaborative-toddler",
   "metadata": {},
   "outputs": [],
   "source": []
  }
 ],
 "metadata": {
  "kernelspec": {
   "display_name": "Python 3",
   "language": "python",
   "name": "python3"
  },
  "language_info": {
   "codemirror_mode": {
    "name": "ipython",
    "version": 3
   },
   "file_extension": ".py",
   "mimetype": "text/x-python",
   "name": "python",
   "nbconvert_exporter": "python",
   "pygments_lexer": "ipython3",
   "version": "3.8.3"
  }
 },
 "nbformat": 4,
 "nbformat_minor": 5
}
